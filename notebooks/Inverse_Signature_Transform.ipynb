{
 "cells": [
  {
   "cell_type": "code",
   "execution_count": 1,
   "id": "f73b22f1-734a-445c-a1d5-0c00c21c83f6",
   "metadata": {},
   "outputs": [],
   "source": [
    "import signatory\n",
    "import numpy as np\n",
    "import torch "
   ]
  },
  {
   "cell_type": "markdown",
   "id": "e242081d-bea8-44a2-a4f4-efafd31bad17",
   "metadata": {},
   "source": [
    "The standard approach to invert a signature can be found [here](https://signatory.readthedocs.io/en/latest/pages/reference/signatures-inversion.html)"
   ]
  },
  {
   "cell_type": "code",
   "execution_count": null,
   "id": "25db35f8-d86e-4ce2-a2fb-e75f85890f2e",
   "metadata": {},
   "outputs": [],
   "source": []
  }
 ],
 "metadata": {
  "kernelspec": {
   "display_name": "Python 3 (ipykernel)",
   "language": "python",
   "name": "python3"
  },
  "language_info": {
   "codemirror_mode": {
    "name": "ipython",
    "version": 3
   },
   "file_extension": ".py",
   "mimetype": "text/x-python",
   "name": "python",
   "nbconvert_exporter": "python",
   "pygments_lexer": "ipython3",
   "version": "3.10.14"
  }
 },
 "nbformat": 4,
 "nbformat_minor": 5
}
